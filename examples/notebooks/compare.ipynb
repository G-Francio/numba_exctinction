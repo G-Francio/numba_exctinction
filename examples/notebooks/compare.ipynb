{
 "cells": [
  {
   "cell_type": "markdown",
   "id": "57db998f-5c18-4255-b08a-2ac361fb764c",
   "metadata": {
    "ExecuteTime": {
     "end_time": "2023-11-10T10:03:54.986693Z",
     "start_time": "2023-11-10T10:03:54.983518Z"
    },
    "collapsed": true,
    "jupyter": {
     "outputs_hidden": true
    }
   },
   "source": [
    "### Checking that the implemenentation fares decently against `extinction.py` and produces the correct results."
   ]
  },
  {
   "cell_type": "markdown",
   "id": "018dc690",
   "metadata": {},
   "source": []
  }
 ],
 "metadata": {
  "kernelspec": {
   "display_name": "Python 3 (ipykernel)",
   "language": "python",
   "name": "python3"
  },
  "language_info": {
   "codemirror_mode": {
    "name": "ipython",
    "version": 3
   },
   "file_extension": ".py",
   "mimetype": "text/x-python",
   "name": "python",
   "nbconvert_exporter": "python",
   "pygments_lexer": "ipython3",
   "version": "3.10.12"
  }
 },
 "nbformat": 4,
 "nbformat_minor": 5
}
